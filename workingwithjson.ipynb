{
  "nbformat": 4,
  "nbformat_minor": 0,
  "metadata": {
    "colab": {
      "provenance": [],
      "authorship_tag": "ABX9TyMKSCrOkZS9SE0bYBs3VzHS"
    },
    "kernelspec": {
      "name": "python3",
      "display_name": "Python 3"
    },
    "language_info": {
      "name": "python"
    }
  },
  "cells": [
    {
      "cell_type": "markdown",
      "source": [
        "JavaScript Object Notation JSON\n",
        "\n",
        "> JSON is the standard format to transfer data\n",
        "\n",
        "> used by databases n APIs\n",
        "\n"
      ],
      "metadata": {
        "id": "6nqNUdEreSfo"
      }
    },
    {
      "cell_type": "markdown",
      "source": [
        "Serialization:\n",
        "encoding data ie converting python data to json\n"
      ],
      "metadata": {
        "id": "rlwz_ACCeDlt"
      }
    },
    {
      "cell_type": "code",
      "execution_count": 2,
      "metadata": {
        "colab": {
          "base_uri": "https://localhost:8080/"
        },
        "id": "mmXmGzjra-Yz",
        "outputId": "9d89c89d-1705-460d-a006-d3b0c498a2a9"
      },
      "outputs": [
        {
          "output_type": "stream",
          "name": "stdout",
          "text": [
            "{\n",
            "    \"user_details\": {\n",
            "        \"name\": \"Gopika\",\n",
            "        \"Gender\": \"F\"\n",
            "    }\n",
            "}\n"
          ]
        }
      ],
      "source": [
        "\n",
        "import json\n",
        "\n",
        "# python data that is to be serilized\n",
        " \n",
        "data = {\n",
        "    \"user_details\":{\n",
        "        \"name\":\"Gopika\",\n",
        "        \"Gender\":\"F\"\n",
        "    }\n",
        "}\n",
        "\n",
        "# serialization using file method\n",
        "\n",
        "with open(\"Create_file.json\",\"w\") as file:\n",
        "    json.dump(data,file, indent=4)\n",
        "\n",
        "\n",
        "# serialization using string method\n",
        "Create_str=json.dumps(data,indent=4)\n",
        "print(Create_str)"
      ]
    },
    {
      "cell_type": "markdown",
      "source": [
        "DESERIALIZATION : Decoding json data to python\n",
        "\n",
        "serailization n deserialization are not perfectly inverse operations"
      ],
      "metadata": {
        "id": "IDlygHhhfIVh"
      }
    },
    {
      "cell_type": "code",
      "source": [
        "# deserialization\n",
        "import json \n",
        "\n",
        "data=(\"name\",\"value\")\n",
        "\n",
        "# serializing\n",
        "en_data=json.dumps(data)\n",
        "\n",
        "# deserializing\n",
        "de_data=json.loads(en_data)\n",
        "\n",
        "# check the type of data after decoding\n",
        "print(type(de_data))"
      ],
      "metadata": {
        "colab": {
          "base_uri": "https://localhost:8080/"
        },
        "id": "_9kloh3xfWJE",
        "outputId": "df4f303a-de84-473d-bcc0-75bed2b10305"
      },
      "execution_count": 3,
      "outputs": [
        {
          "output_type": "stream",
          "name": "stdout",
          "text": [
            "<class 'list'>\n"
          ]
        }
      ]
    },
    {
      "cell_type": "markdown",
      "source": [
        "LIST whereas we initially had a tuple but now its a list"
      ],
      "metadata": {
        "id": "hyrRrT77gPEU"
      }
    },
    {
      "cell_type": "code",
      "source": [],
      "metadata": {
        "id": "Cm75mYmZgN-A"
      },
      "execution_count": null,
      "outputs": []
    },
    {
      "cell_type": "code",
      "source": [
        "de_data"
      ],
      "metadata": {
        "colab": {
          "base_uri": "https://localhost:8080/"
        },
        "id": "aHyirdNegMGy",
        "outputId": "99713cb4-d95e-4ad1-b0f2-bea153093f54"
      },
      "execution_count": 4,
      "outputs": [
        {
          "output_type": "execute_result",
          "data": {
            "text/plain": [
              "['name', 'value']"
            ]
          },
          "metadata": {},
          "execution_count": 4
        }
      ]
    },
    {
      "cell_type": "markdown",
      "source": [
        "to get the original object back we can convert that back to our type by passing the decoded data into that objects constructor or initializer"
      ],
      "metadata": {
        "id": "IgO5WJSGgbt5"
      }
    },
    {
      "cell_type": "code",
      "source": [
        "# check\n",
        "data==tuple(de_data)"
      ],
      "metadata": {
        "colab": {
          "base_uri": "https://localhost:8080/"
        },
        "id": "mb2vG6sgdw9M",
        "outputId": "4cb1b1bd-8b1a-4dcf-d51b-c8d5c7346a94"
      },
      "execution_count": 5,
      "outputs": [
        {
          "output_type": "execute_result",
          "data": {
            "text/plain": [
              "True"
            ]
          },
          "metadata": {},
          "execution_count": 5
        }
      ]
    },
    {
      "cell_type": "markdown",
      "source": [],
      "metadata": {
        "id": "8FVw_GUxg68g"
      }
    }
  ]
}