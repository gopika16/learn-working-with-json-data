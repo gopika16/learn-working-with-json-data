{
  "nbformat": 4,
  "nbformat_minor": 0,
  "metadata": {
    "colab": {
      "provenance": [],
      "authorship_tag": "ABX9TyONJ6F9E0P6DpHfgm5JcIzW"
    },
    "kernelspec": {
      "name": "python3",
      "display_name": "Python 3"
    },
    "language_info": {
      "name": "python"
    }
  },
  "cells": [
    {
      "cell_type": "code",
      "execution_count": 2,
      "metadata": {
        "colab": {
          "base_uri": "https://localhost:8080/"
        },
        "id": "mmXmGzjra-Yz",
        "outputId": "9d89c89d-1705-460d-a006-d3b0c498a2a9"
      },
      "outputs": [
        {
          "output_type": "stream",
          "name": "stdout",
          "text": [
            "{\n",
            "    \"user_details\": {\n",
            "        \"name\": \"Gopika\",\n",
            "        \"Gender\": \"F\"\n",
            "    }\n",
            "}\n"
          ]
        }
      ],
      "source": [
        "import json\n",
        "\n",
        "# python data that is to be serilized\n",
        " \n",
        "data = {\n",
        "    \"user_details\":{\n",
        "        \"name\":\"Gopika\",\n",
        "        \"Gender\":\"F\"\n",
        "    }\n",
        "}\n",
        "\n",
        "# serialization using file method\n",
        "\n",
        "with open(\"Create_file.json\",\"w\") as file:\n",
        "    json.dump(data,file, indent=4)\n",
        "\n",
        "\n",
        "# serialization using string method\n",
        "Create_str=json.dumps(data,indent=4)\n",
        "print(Create_str)"
      ]
    }
  ]
}